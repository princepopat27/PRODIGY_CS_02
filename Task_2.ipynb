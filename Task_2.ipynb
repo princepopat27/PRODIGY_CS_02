{
  "nbformat": 4,
  "nbformat_minor": 0,
  "metadata": {
    "colab": {
      "provenance": [],
      "authorship_tag": "ABX9TyOOOstmwhLy7ZdcFNc+nNT4"
    },
    "kernelspec": {
      "name": "python3",
      "display_name": "Python 3"
    },
    "language_info": {
      "name": "python"
    }
  },
  "cells": [
    {
      "cell_type": "code",
      "execution_count": 2,
      "metadata": {
        "id": "v6f7oYUvM0gj"
      },
      "outputs": [],
      "source": [
        "from PIL import Image\n",
        "import numpy as np\n",
        "\n",
        "def encrypt_image(image_path, key):\n",
        "    # Open the image\n",
        "    image = Image.open(image_path)\n",
        "    # Convert the image to a numpy array\n",
        "    image_array = np.array(image)\n",
        "    # Encrypt each pixel value\n",
        "    encrypted_image_array = image_array + key\n",
        "    # Create a new image from the encrypted pixel values\n",
        "    encrypted_image = Image.fromarray(encrypted_image_array.astype('uint8'))\n",
        "    # Save the encrypted image\n",
        "    encrypted_image.save(\"encrypted_image.png\")\n",
        "\n",
        "def decrypt_image(encrypted_image_path, key):\n",
        "    # Open the encrypted image\n",
        "    encrypted_image = Image.open(encrypted_image_path)\n",
        "    # Convert the encrypted image to a numpy array\n",
        "    encrypted_image_array = np.array(encrypted_image)\n",
        "    # Decrypt each pixel value\n",
        "    decrypted_image_array = encrypted_image_array - key\n",
        "    # Create a new image from the decrypted pixel values\n",
        "    decrypted_image = Image.fromarray(decrypted_image_array.astype('uint8'))\n",
        "    # Save the decrypted image\n",
        "    decrypted_image.save(\"decrypted_image.png\")\n",
        "\n",
        "image_path = \"example_image.png\"\n",
        "key = 575673575373537537  # Encryption/decryption key\n",
        "encrypt_image(image_path, key)\n",
        "encrypted_image_path = \"encrypted_image.png\"\n",
        "decrypt_image(encrypted_image_path, key)"
      ]
    }
  ]
}